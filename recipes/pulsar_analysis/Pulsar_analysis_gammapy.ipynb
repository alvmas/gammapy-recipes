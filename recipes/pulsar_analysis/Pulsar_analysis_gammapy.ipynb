{
 "cells": [
  {
   "cell_type": "markdown",
   "id": "b19e519d",
   "metadata": {},
   "source": [
    "## Introduction"
   ]
  },
  {
   "cell_type": "markdown",
   "id": "d1a30dd7",
   "metadata": {},
   "source": [
    "This recipe shows how to add the phase information into the EventLists of pulsar observations. This step is needed to perform the pulsar analysis with gammapy and should be the first step in the high level analysis. For the pulsar analysis we need two ingredientes:\n",
    "\n",
    "1. The time of arrivals (TOAs). This times should have very high precision due to the common fast periods of pulsars. Usually this times are already stored in the EventList tables but need to be corrected to be referenced to the Solar System barycenter (SSB). Sometimes, the times are stores in specific files, known as .tim files.\n",
    "\n",
    "\n",
    "2. The model of rotation of the star, also known as ephemeris, at the epoch of the observations. These ephemeris are stored in an specific format and saved as .par files and contain information of the periods, derivatives of the periods, coordinates, glitches, etc.\n",
    "\n",
    "__For following the steps of this tutorial, we need the original EventLists from the DL3 files, and a model in .par format.__\n",
    "\n",
    "The main software that will help us to make the barycentric corrections and the phase-folding to the model is PINT library. For more information about how this package works, see the following link: https://nanograv-pint.readthedocs.io/en/latest/. "
   ]
  },
  {
   "cell_type": "markdown",
   "id": "c61c515c",
   "metadata": {},
   "source": [
    "## 0. Imports and dependencies"
   ]
  },
  {
   "cell_type": "markdown",
   "id": "144e8090",
   "metadata": {},
   "source": [
    "The dependencies that we will be using in this tutorial are essentials (astropy, matplotlib, numpy). We need also to install PINT for the phase computation (see https://nanograv-pint.readthedocs.io/en/latest/installation.html for more information)."
   ]
  },
  {
   "cell_type": "markdown",
   "id": "4d43545b",
   "metadata": {},
   "source": [
    "The version of gammapy used in this tutorial is 1.0"
   ]
  },
  {
   "cell_type": "code",
   "execution_count": 73,
   "id": "c1ce1bb5",
   "metadata": {},
   "outputs": [
    {
     "name": "stdout",
     "output_type": "stream",
     "text": [
      "gammapy version : 1.0\n",
      "Astropy version : 5.1.1\n",
      "Pint version : 0.9.3\n"
     ]
    }
   ],
   "source": [
    "import gammapy\n",
    "import astropy\n",
    "import pint\n",
    "\n",
    "print(f'gammapy version : {gammapy.__version__}')\n",
    "print(f'Astropy version : {astropy.__version__}')\n",
    "print(f'Pint version : {pint.__version__}')"
   ]
  },
  {
   "cell_type": "code",
   "execution_count": 79,
   "id": "e61b5e3e",
   "metadata": {},
   "outputs": [],
   "source": [
    "import astropy.units as u\n",
    "from astropy.time import Time\n",
    "import matplotlib.pyplot as plt\n",
    "import pint.models as models\n",
    "import numpy as np\n",
    "import os"
   ]
  },
  {
   "cell_type": "code",
   "execution_count": 3,
   "id": "22adb2ce",
   "metadata": {},
   "outputs": [],
   "source": [
    "from astropy.coordinates import SkyCoord\n",
    "\n",
    "from gammapy.utils.regions import SphericalCircleSkyRegion\n",
    "from gammapy.data import DataStore, EventList, Observation, Observations\n",
    "from gammapy.data import GTI\n",
    "from gammapy.makers import (\n",
    "    SafeMaskMaker,\n",
    "    PhaseBackgroundMaker,\n",
    "    SpectrumDatasetMaker,\n",
    ")\n",
    "from gammapy.datasets import SpectrumDataset, Datasets\n",
    "from gammapy.maps import Map, WcsGeom, MapAxis, RegionGeom"
   ]
  },
  {
   "cell_type": "markdown",
   "id": "5aae5f4b",
   "metadata": {},
   "source": [
    "## 1. Reading DataStore"
   ]
  },
  {
   "cell_type": "code",
   "execution_count": 16,
   "id": "d0e182bb",
   "metadata": {},
   "outputs": [],
   "source": [
    "DL3_direc = \"$GAMMAPY_DATA/magic/rad_max/data\"\n",
    "#DL3_direc='/Users/alvarom/Desktop/Doctorado/fermipulsar/gammapy-datasets/1.0/magic/rad_max/data/'"
   ]
  },
  {
   "cell_type": "code",
   "execution_count": 29,
   "id": "b5019a42",
   "metadata": {},
   "outputs": [],
   "source": [
    "# Read DataStore from a directory\n",
    "data_store = DataStore.from_dir(DL3_direc)"
   ]
  },
  {
   "cell_type": "markdown",
   "id": "69e8c160",
   "metadata": {},
   "source": [
    "Let's run this tutorial for the Crab pulsar :"
   ]
  },
  {
   "cell_type": "code",
   "execution_count": 30,
   "id": "db256dfe",
   "metadata": {},
   "outputs": [],
   "source": [
    "target_pos = SkyCoord(ra = 083.6331144560900, dec = +22.0144871383400, unit = 'deg', frame = 'icrs')"
   ]
  },
  {
   "cell_type": "code",
   "execution_count": 31,
   "id": "558f7f23",
   "metadata": {},
   "outputs": [],
   "source": [
    "selection = dict(\n",
    "    type=\"sky_circle\",\n",
    "    frame=\"icrs\",\n",
    "    lon=target_pos.ra,\n",
    "    lat=target_pos.dec,\n",
    "    radius=\"5 deg\",\n",
    ")\n",
    "selected_obs_table = data_store.obs_table.select_observations(selection)"
   ]
  },
  {
   "cell_type": "code",
   "execution_count": 32,
   "id": "749b7961",
   "metadata": {},
   "outputs": [
    {
     "name": "stdout",
     "output_type": "stream",
     "text": [
      " OBS_ID\n",
      "-------\n",
      "5029748\n",
      "5029747\n"
     ]
    }
   ],
   "source": [
    "obs_id = selected_obs_table['OBS_ID']\n",
    "print(obs_id)"
   ]
  },
  {
   "cell_type": "code",
   "execution_count": 33,
   "id": "3a5c83df",
   "metadata": {},
   "outputs": [],
   "source": [
    "# For the following we will take the run 5029747."
   ]
  },
  {
   "cell_type": "code",
   "execution_count": 34,
   "id": "5d97b461",
   "metadata": {},
   "outputs": [],
   "source": [
    "observations = data_store.get_observations([5029747], required_irf = \"point-like\")"
   ]
  },
  {
   "cell_type": "code",
   "execution_count": 35,
   "id": "fe85e94f",
   "metadata": {},
   "outputs": [
    {
     "name": "stdout",
     "output_type": "stream",
     "text": [
      "Observations\n",
      "Number of observations: 1\n",
      "Observation\n",
      "\n",
      "\tobs id            : 5029747 \n",
      " \ttstart            : 56569.18\n",
      "\ttstop             : 56569.19\n",
      "\tduration          : 1188.11 s\n",
      "\tpointing (icrs)   : 84.0 deg, 22.2 deg\n",
      "\n",
      "\tdeadtime fraction : 0.8%\n",
      "\n"
     ]
    }
   ],
   "source": [
    "print(observations)"
   ]
  },
  {
   "cell_type": "markdown",
   "id": "0dd88876",
   "metadata": {},
   "source": [
    "## 2. Phase-folding with PINT for one observation"
   ]
  },
  {
   "cell_type": "markdown",
   "id": "162a3ac0",
   "metadata": {},
   "source": [
    "Let's extract the times from the observations:"
   ]
  },
  {
   "cell_type": "code",
   "execution_count": 37,
   "id": "2756e72d",
   "metadata": {},
   "outputs": [],
   "source": [
    "#Extract times from EventList\n",
    "observation = observations[0]\n",
    "times = observation.events.time"
   ]
  },
  {
   "cell_type": "code",
   "execution_count": 38,
   "id": "1ac8103a",
   "metadata": {},
   "outputs": [
    {
     "data": {
      "text/plain": [
       "<Time object: scale='utc' format='mjd' value=[56569.18112859 56569.18112878 56569.18112978 ... 56569.19487702\n",
       " 56569.19487703 56569.19487876]>"
      ]
     },
     "execution_count": 38,
     "metadata": {},
     "output_type": "execute_result"
    }
   ],
   "source": [
    "times"
   ]
  },
  {
   "cell_type": "markdown",
   "id": "be064003",
   "metadata": {},
   "source": [
    "At this point we have two ways to proceed leading to the same results. One can choose between on or another depending on their analysis case."
   ]
  },
  {
   "cell_type": "markdown",
   "id": "ff8a0796",
   "metadata": {},
   "source": [
    "## 2.1 First way: creating a temporary .tim file"
   ]
  },
  {
   "cell_type": "markdown",
   "id": "70a2c1ec",
   "metadata": {},
   "source": [
    "The first method is to create a .tim file to be used as the input of PINT. This step makes the analysis with PINT straight-forward, without needing to know the internal function of PINT. PINT uses this .tim file to create all the TOAs object and do the needed corrections automatically."
   ]
  },
  {
   "cell_type": "markdown",
   "id": "9fa32773",
   "metadata": {},
   "source": [
    "### 2.1.1 Creating a basic .tim file with the TOAs"
   ]
  },
  {
   "cell_type": "markdown",
   "id": "6dabecfa",
   "metadata": {},
   "source": [
    "First we need to set a random name for the .tim file (in case you want to keep them) and the observatory name used by PINT (same as tempo2)."
   ]
  },
  {
   "cell_type": "code",
   "execution_count": 14,
   "id": "a17bd1cf",
   "metadata": {},
   "outputs": [],
   "source": [
    "timname = 'times.tim'\n",
    "obs = 'magic'"
   ]
  },
  {
   "cell_type": "markdown",
   "id": "70d571fd",
   "metadata": {},
   "source": [
    "We create the .tim file"
   ]
  },
  {
   "cell_type": "code",
   "execution_count": 15,
   "id": "d35dcd39",
   "metadata": {},
   "outputs": [],
   "source": [
    "timelist = list(times.to_value('mjd','long'))\n",
    "\n",
    "timFile = open(timname,'w+')\n",
    "timFile.write('FORMAT 1 \\n')\n",
    "for i in range(0,len(timelist)):\n",
    "        timFile.write(str(obs) + ' ' + '0.0 ' + str(times[i]) + ' 0.0 ' + str(obs) + ' \\n')\n",
    "timFile.close()"
   ]
  },
  {
   "cell_type": "code",
   "execution_count": 16,
   "id": "cb978b04",
   "metadata": {},
   "outputs": [
    {
     "name": "stdout",
     "output_type": "stream",
     "text": [
      "FORMAT 1 \r\n",
      "magic 0.0 56569.18112858709 0.0 magic \r\n",
      "magic 0.0 56569.18112878143 0.0 magic \r\n",
      "magic 0.0 56569.181129781835 0.0 magic \r\n",
      "magic 0.0 56569.181130428406 0.0 magic \r\n",
      "magic 0.0 56569.18113151382 0.0 magic \r\n",
      "magic 0.0 56569.181131688136 0.0 magic \r\n",
      "magic 0.0 56569.181132690355 0.0 magic \r\n",
      "magic 0.0 56569.181134057944 0.0 magic \r\n",
      "magic 0.0 56569.18113457108 0.0 magic \r\n"
     ]
    }
   ],
   "source": [
    "!head times.tim"
   ]
  },
  {
   "cell_type": "markdown",
   "id": "530a549f",
   "metadata": {},
   "source": [
    "### 2.1.2. Setting and exploring model"
   ]
  },
  {
   "cell_type": "code",
   "execution_count": 17,
   "id": "d4f89ba4",
   "metadata": {},
   "outputs": [],
   "source": [
    "ephemeris_file = '/Users/alvarom/Desktop/Doctorado/fermipulsar/crab_ephemeris_model.par'"
   ]
  },
  {
   "cell_type": "code",
   "execution_count": 18,
   "id": "562604cf",
   "metadata": {},
   "outputs": [
    {
     "name": "stderr",
     "output_type": "stream",
     "text": [
      "\u001b[33m\u001b[1mWARNING \u001b[0m (pint.observatory.topo_obs     ): \u001b[33m\u001b[1mNo clock corrections found for observatory magic taken from file \u001b[0m\n",
      "\u001b[1mINFO    \u001b[0m (pint.observatory.topo_obs     ): \u001b[1mApplying GPS to UTC clock correction (~few nanoseconds)\u001b[0m\n",
      "\u001b[1mINFO    \u001b[0m (pint.observatory.topo_obs     ): \u001b[1mLoading GPS clock file /Users/alvarom/miniconda3/envs/fermi/envs/plst1/lib/python3.8/site-packages/pint/data/runtime/gps2utc.clk for magic\u001b[0m\n",
      "\u001b[1mINFO    \u001b[0m (pint.observatory.topo_obs     ): \u001b[1mApplying TT(TAI) to TT(BIPM2019) clock correction (~27 us)\u001b[0m\n",
      "\u001b[1mINFO    \u001b[0m (pint.observatory.topo_obs     ): \u001b[1mLoading BIPM clock file {self.bipm_fullpath} for {self.name}\u001b[0m\n",
      "\u001b[1mINFO    \u001b[0m (pint.solar_system_ephemerides ): \u001b[1mSet solar system ephemeris to de200 from download\u001b[0m\n"
     ]
    },
    {
     "name": "stdout",
     "output_type": "stream",
     "text": [
      "CPU times: user 13.6 s, sys: 268 ms, total: 13.9 s\n",
      "Wall time: 20.1 s\n"
     ]
    }
   ],
   "source": [
    "%%time \n",
    "m, t = models.get_model_and_toas(ephemeris_file, timname, planets = True,usepickle = False)"
   ]
  },
  {
   "cell_type": "markdown",
   "id": "d19ce0b6",
   "metadata": {},
   "source": [
    "PINT has already read the model and created the TOAs with all the corrections. Let's inspect the model, which follows the .par format:"
   ]
  },
  {
   "cell_type": "code",
   "execution_count": 19,
   "id": "26da9b72",
   "metadata": {},
   "outputs": [
    {
     "name": "stdout",
     "output_type": "stream",
     "text": [
      "# Created: 2022-12-19T12:17:38.144711\n",
      "# PINT_version: 0.8.8\n",
      "# User: alvarom\n",
      "# Host: MacBook-Pro-de-Alvaro.local\n",
      "# OS: macOS-10.16-x86_64-i386-64bit\n",
      "# Format: pint\n",
      "PSR                               0531+21\n",
      "EPHEM                               DE200\n",
      "START              56569.0000000000000000\n",
      "FINISH             56597.0000000000000000\n",
      "TIMEEPH                              FB90\n",
      "T2CMETHOD                        IAU2000B\n",
      "DILATEFREQ                              N\n",
      "DMDATA                                  N\n",
      "NTOA                                    0\n",
      "CHI2                                  0.0\n",
      "RAJ                      5:34:31.97200000\n",
      "DECJ                    22:00:52.07000000\n",
      "PMRA                                  0.0\n",
      "PMDEC                                 0.0\n",
      "PX                                    0.0\n",
      "F0                  29.683998100945800047\n",
      "F1                           -3.70133e-10\n",
      "F2                              -1.02e-20\n",
      "PEPOCH             56583.0000000000000000\n",
      "TZRMJD             56583.0000000639993287\n",
      "TZRSITE                               coe\n",
      "TZRFRQ                                inf\n",
      "PLANET_SHAPIRO                          Y\n",
      "\n"
     ]
    }
   ],
   "source": [
    "print(m)"
   ]
  },
  {
   "cell_type": "markdown",
   "id": "8c2350cc",
   "metadata": {},
   "source": [
    "__Remember that this model is only valid for a certain epoch so always check that the epoch of your observations are within the range of validity of the ephemeris.__"
   ]
  },
  {
   "cell_type": "markdown",
   "id": "02a51cc5",
   "metadata": {},
   "source": [
    "### 2.1.3 Compute phases using PINT"
   ]
  },
  {
   "cell_type": "markdown",
   "id": "b6820bb5",
   "metadata": {},
   "source": [
    "Let's obtain the barycentric times and the phases computed by PINT:"
   ]
  },
  {
   "cell_type": "code",
   "execution_count": 20,
   "id": "56129b6f",
   "metadata": {},
   "outputs": [
    {
     "name": "stderr",
     "output_type": "stream",
     "text": [
      "\u001b[1mINFO    \u001b[0m (pint.observatory.special_locations): \u001b[1mObservatory geocenter, loading GPS clock file /Users/alvarom/miniconda3/envs/fermi/envs/plst1/lib/python3.8/site-packages/pint/data/runtime/gps2utc.clk\u001b[0m\n",
      "\u001b[33m\u001b[1mWARNING \u001b[0m (pint.logging                  ): \u001b[33m\u001b[1m<class 'erfa.core.ErfaWarning'> ERFA function \"dtf2d\" yielded 1 of \"dubious year (Note 6)\"\u001b[0m\n",
      "/Users/alvarom/miniconda3/envs/fermi/envs/plst1/lib/python3.8/site-packages/pint/logging.py:115: ErfaWarning: ERFA function \"dtf2d\" yielded 1 of \"dubious year (Note 6)\"\n",
      "  warn_(message, *args, **kwargs)\n",
      "\u001b[1mINFO    \u001b[0m (pint.observatory.special_locations): \u001b[1mApplying TT(TAI) to TT(BIPM) clock correction (~27 us)\u001b[0m\n",
      "\u001b[1mINFO    \u001b[0m (pint.observatory.special_locations): \u001b[1mObservatory geocenter, loading BIPM clock file /Users/alvarom/miniconda3/envs/fermi/envs/plst1/lib/python3.8/site-packages/pint/data/runtime/tai2tt_bipm2019.clk\u001b[0m\n"
     ]
    },
    {
     "name": "stdout",
     "output_type": "stream",
     "text": [
      "CPU times: user 174 ms, sys: 21.1 ms, total: 196 ms\n",
      "Wall time: 5.9 s\n"
     ]
    }
   ],
   "source": [
    "%%time\n",
    "barycent_toas = m.get_barycentric_toas(t)\n",
    "phases = m.phase(t,abs_phase=True).frac\n",
    "phases = np.array(phases)"
   ]
  },
  {
   "cell_type": "code",
   "execution_count": 21,
   "id": "d605ffaf",
   "metadata": {},
   "outputs": [
    {
     "data": {
      "image/png": "[encoded data removed]",
      "text/plain": [
       "<Figure size 640x480 with 1 Axes>"
      ]
     },
     "metadata": {},
     "output_type": "display_data"
    }
   ],
   "source": [
    "plt.hist(phases)\n",
    "plt.show()"
   ]
  },
  {
   "cell_type": "markdown",
   "id": "a91c6a1b",
   "metadata": {},
   "source": [
    "PINT compute the phases between -0.5 and 0.5. Normally, for pulsar analysis we work in the range [0,1], so we need to shift the negative phases."
   ]
  },
  {
   "cell_type": "code",
   "execution_count": 22,
   "id": "00d2fbcf",
   "metadata": {},
   "outputs": [],
   "source": [
    "phases = np.where(phases < 0.0 , phases + 1.0 , phases)"
   ]
  },
  {
   "cell_type": "code",
   "execution_count": 23,
   "id": "4c4af072",
   "metadata": {},
   "outputs": [
    {
     "data": {
      "image/png": "[encoded data removed]",
      "text/plain": [
       "<Figure size 640x480 with 1 Axes>"
      ]
     },
     "metadata": {},
     "output_type": "display_data"
    }
   ],
   "source": [
    "plt.hist(phases)\n",
    "plt.show()"
   ]
  },
  {
   "cell_type": "markdown",
   "id": "64cac1a6",
   "metadata": {},
   "source": [
    "### 2.1.4 Removing tim file (optional)"
   ]
  },
  {
   "cell_type": "markdown",
   "id": "86c15284",
   "metadata": {},
   "source": [
    "Since the original times are located in the EventList we can remove the .tim file created to be used by PINT."
   ]
  },
  {
   "cell_type": "code",
   "execution_count": 24,
   "id": "8d7c2e9a",
   "metadata": {},
   "outputs": [],
   "source": [
    "os.remove(str(os.getcwd()) + '/' + timname)"
   ]
  },
  {
   "cell_type": "markdown",
   "id": "bcc74638",
   "metadata": {},
   "source": [
    "## 2.2 Second way: Using internal functions of PINT "
   ]
  },
  {
   "cell_type": "markdown",
   "id": "9d8ee2a8",
   "metadata": {},
   "source": [
    "Actually, this should be the desirable way of proceeding but we need to understand better the functionalities of PINT. We do not need to create a .tim file, and we can create directly the TOAs object used in PINT by our own and perform the corrections step by step."
   ]
  },
  {
   "cell_type": "code",
   "execution_count": 25,
   "id": "6921ec83",
   "metadata": {},
   "outputs": [],
   "source": [
    "from pint import toa\n",
    "from pint import models\n",
    "from pint.observatory.topo_obs import TopoObs\n",
    "from pint.models import get_model"
   ]
  },
  {
   "cell_type": "code",
   "execution_count": 26,
   "id": "d24e1c92",
   "metadata": {},
   "outputs": [],
   "source": [
    "### WHICH ONE IS THE CODE FOR MAGIC?\n",
    "model = get_model(ephemeris_file)"
   ]
  },
  {
   "cell_type": "code",
   "execution_count": 27,
   "id": "a145cdde",
   "metadata": {},
   "outputs": [
    {
     "name": "stderr",
     "output_type": "stream",
     "text": [
      "\u001b[33m\u001b[1mWARNING \u001b[0m (pint.observatory.topo_obs     ): \u001b[33m\u001b[1mNo clock corrections found for observatory magic taken from file \u001b[0m\n",
      "\u001b[1mINFO    \u001b[0m (pint.solar_system_ephemerides ): \u001b[1mSet solar system ephemeris to de421 from download\u001b[0m\n"
     ]
    },
    {
     "name": "stdout",
     "output_type": "stream",
     "text": [
      "CPU times: user 10.2 s, sys: 231 ms, total: 10.4 s\n",
      "Wall time: 22.2 s\n"
     ]
    }
   ],
   "source": [
    "%%time\n",
    "include_bipm = True\n",
    "include_gps = True\n",
    "\n",
    "toa_list = list(toa.TOA(t, 4.5, obs='magic', ephem='DE421', include_bipm=str(include_bipm), \n",
    "                                include_gps=str(include_gps)) for t in times)\n",
    "        \n",
    "ts = toa.TOAs(toalist=toa_list)\n",
    "ts.clock_corr_info={'include_bipm': str(include_bipm), 'include_gps': str(include_gps)}\n",
    "\n",
    "ts.apply_clock_corrections(include_gps=include_gps,include_bipm=include_bipm)\n",
    "\n",
    "ts.compute_TDBs(ephem='DE421')\n",
    "ts.compute_posvels(ephem='DE421',planets=True)\n",
    "        \n",
    "phases = model.phase(ts,abs_phase=True)[1]\n",
    "    \n",
    "phases = np.where(phases < 0.0 , phases + 1.0 , phases)"
   ]
  },
  {
   "cell_type": "markdown",
   "id": "fbaf4563",
   "metadata": {},
   "source": [
    "## 3. Add the phases to an EvenList and put it in a new Observation. "
   ]
  },
  {
   "cell_type": "code",
   "execution_count": 360,
   "id": "f15f6c73",
   "metadata": {},
   "outputs": [],
   "source": [
    "# Extract the table of the EventList\n",
    "table = observation.events.table"
   ]
  },
  {
   "cell_type": "code",
   "execution_count": 361,
   "id": "f0c7c796",
   "metadata": {},
   "outputs": [
    {
     "data": {
      "text/html": [
       "<div><i>Table length=11189</i>\n",
       "<table id=\"table140639414025712\" class=\"table-striped table-bordered table-condensed\">\n",
       "<thead><tr><th>EVENT_ID</th><th>TIME</th><th>RA</th><th>DEC</th><th>ENERGY</th></tr></thead>\n",
       "<thead><tr><th></th><th>s</th><th>deg</th><th>deg</th><th>TeV</th></tr></thead>\n",
       "<thead><tr><th>int64</th><th>float64</th><th>float32</th><th>float32</th><th>float32</th></tr></thead>\n",
       "<tr><td>2402</td><td>333778852.5099249</td><td>84.59457</td><td>22.03088</td><td>0.18194601</td></tr>\n",
       "<tr><td>2408</td><td>333778852.5267153</td><td>84.21462</td><td>23.44914</td><td>0.08397394</td></tr>\n",
       "<tr><td>2434</td><td>333778852.61315054</td><td>83.524704</td><td>22.725792</td><td>0.10596932</td></tr>\n",
       "<tr><td>2445</td><td>333778852.6690142</td><td>83.76957</td><td>22.451006</td><td>0.19733498</td></tr>\n",
       "<tr><td>2478</td><td>333778852.7627939</td><td>83.478516</td><td>23.484594</td><td>0.08522219</td></tr>\n",
       "<tr><td>2481</td><td>333778852.7778549</td><td>83.71517</td><td>21.985115</td><td>1.0020943</td></tr>\n",
       "<tr><td>...</td><td>...</td><td>...</td><td>...</td><td>...</td></tr>\n",
       "<tr><td>356282</td><td>333780039.62997514</td><td>84.46133</td><td>21.69357</td><td>0.05068718</td></tr>\n",
       "<tr><td>356473</td><td>333780040.3386479</td><td>84.45441</td><td>21.159828</td><td>0.1831569</td></tr>\n",
       "<tr><td>356478</td><td>333780040.3548926</td><td>83.68336</td><td>23.444988</td><td>0.06305169</td></tr>\n",
       "<tr><td>356485</td><td>333780040.3741322</td><td>84.33517</td><td>21.28338</td><td>0.060539745</td></tr>\n",
       "<tr><td>356486</td><td>333780040.3755159</td><td>84.85886</td><td>22.116222</td><td>0.123453744</td></tr>\n",
       "<tr><td>356526</td><td>333780040.52476007</td><td>84.86929</td><td>21.290916</td><td>0.13630114</td></tr>\n",
       "</table></div>"
      ],
      "text/plain": [
       "<Table length=11189>\n",
       "EVENT_ID        TIME            RA       DEC       ENERGY  \n",
       "                 s             deg       deg        TeV    \n",
       " int64        float64        float32   float32    float32  \n",
       "-------- ------------------ --------- --------- -----------\n",
       "    2402  333778852.5099249  84.59457  22.03088  0.18194601\n",
       "    2408  333778852.5267153  84.21462  23.44914  0.08397394\n",
       "    2434 333778852.61315054 83.524704 22.725792  0.10596932\n",
       "    2445  333778852.6690142  83.76957 22.451006  0.19733498\n",
       "    2478  333778852.7627939 83.478516 23.484594  0.08522219\n",
       "    2481  333778852.7778549  83.71517 21.985115   1.0020943\n",
       "     ...                ...       ...       ...         ...\n",
       "  356282 333780039.62997514  84.46133  21.69357  0.05068718\n",
       "  356473  333780040.3386479  84.45441 21.159828   0.1831569\n",
       "  356478  333780040.3548926  83.68336 23.444988  0.06305169\n",
       "  356485  333780040.3741322  84.33517  21.28338 0.060539745\n",
       "  356486  333780040.3755159  84.85886 22.116222 0.123453744\n",
       "  356526 333780040.52476007  84.86929 21.290916  0.13630114"
      ]
     },
     "execution_count": 361,
     "metadata": {},
     "output_type": "execute_result"
    }
   ],
   "source": [
    "table"
   ]
  },
  {
   "cell_type": "code",
   "execution_count": null,
   "id": "89eb0b35",
   "metadata": {},
   "outputs": [],
   "source": [
    "# Add a column for the phases to the table\n",
    "table['PHASE'] = phases.astype('float64')"
   ]
  },
  {
   "cell_type": "markdown",
   "id": "47a396ac",
   "metadata": {},
   "source": [
    "Note that you can add multiple columns to a same file, only the name of the column has to be unique."
   ]
  },
  {
   "cell_type": "code",
   "execution_count": 363,
   "id": "7c8889f9",
   "metadata": {},
   "outputs": [
    {
     "data": {
      "text/html": [
       "<div><i>Table length=11189</i>\n",
       "<table id=\"table140639414025712\" class=\"table-striped table-bordered table-condensed\">\n",
       "<thead><tr><th>EVENT_ID</th><th>TIME</th><th>RA</th><th>DEC</th><th>ENERGY</th><th>PHASE</th></tr></thead>\n",
       "<thead><tr><th></th><th>s</th><th>deg</th><th>deg</th><th>TeV</th><th></th></tr></thead>\n",
       "<thead><tr><th>int64</th><th>float64</th><th>float32</th><th>float32</th><th>float32</th><th>float64</th></tr></thead>\n",
       "<tr><td>2402</td><td>333778852.5099249</td><td>84.59457</td><td>22.03088</td><td>0.18194601</td><td>0.920936344960249</td></tr>\n",
       "<tr><td>2408</td><td>333778852.5267153</td><td>84.21462</td><td>23.44914</td><td>0.08397394</td><td>0.4194144683982115</td></tr>\n",
       "<tr><td>2434</td><td>333778852.61315054</td><td>83.524704</td><td>22.725792</td><td>0.10596932</td><td>0.9854328212944194</td></tr>\n",
       "<tr><td>2445</td><td>333778852.6690142</td><td>83.76957</td><td>22.451006</td><td>0.19733498</td><td>0.6438742039002348</td></tr>\n",
       "<tr><td>2478</td><td>333778852.7627939</td><td>83.478516</td><td>23.484594</td><td>0.08522219</td><td>0.42793890863078854</td></tr>\n",
       "<tr><td>2481</td><td>333778852.7778549</td><td>83.71517</td><td>21.985115</td><td>1.0020943</td><td>0.8750558812037736</td></tr>\n",
       "<tr><td>...</td><td>...</td><td>...</td><td>...</td><td>...</td><td>...</td></tr>\n",
       "<tr><td>356282</td><td>333780039.62997514</td><td>84.46133</td><td>21.69357</td><td>0.05068718</td><td>0.2641134921735313</td></tr>\n",
       "<tr><td>356473</td><td>333780040.3386479</td><td>84.45441</td><td>21.159828</td><td>0.1831569</td><td>0.30266300580599204</td></tr>\n",
       "<tr><td>356478</td><td>333780040.3548926</td><td>83.68336</td><td>23.444988</td><td>0.06305169</td><td>0.7849303976011681</td></tr>\n",
       "<tr><td>356485</td><td>333780040.3741322</td><td>84.33517</td><td>21.28338</td><td>0.060539745</td><td>0.3560999628401289</td></tr>\n",
       "<tr><td>356486</td><td>333780040.3755159</td><td>84.85886</td><td>22.116222</td><td>0.123453744</td><td>0.3971755466530551</td></tr>\n",
       "<tr><td>356526</td><td>333780040.52476007</td><td>84.86929</td><td>21.290916</td><td>0.13630114</td><td>0.8278334358850072</td></tr>\n",
       "</table></div>"
      ],
      "text/plain": [
       "<Table length=11189>\n",
       "EVENT_ID        TIME            RA       DEC       ENERGY          PHASE       \n",
       "                 s             deg       deg        TeV                        \n",
       " int64        float64        float32   float32    float32         float64      \n",
       "-------- ------------------ --------- --------- ----------- -------------------\n",
       "    2402  333778852.5099249  84.59457  22.03088  0.18194601   0.920936344960249\n",
       "    2408  333778852.5267153  84.21462  23.44914  0.08397394  0.4194144683982115\n",
       "    2434 333778852.61315054 83.524704 22.725792  0.10596932  0.9854328212944194\n",
       "    2445  333778852.6690142  83.76957 22.451006  0.19733498  0.6438742039002348\n",
       "    2478  333778852.7627939 83.478516 23.484594  0.08522219 0.42793890863078854\n",
       "    2481  333778852.7778549  83.71517 21.985115   1.0020943  0.8750558812037736\n",
       "     ...                ...       ...       ...         ...                 ...\n",
       "  356282 333780039.62997514  84.46133  21.69357  0.05068718  0.2641134921735313\n",
       "  356473  333780040.3386479  84.45441 21.159828   0.1831569 0.30266300580599204\n",
       "  356478  333780040.3548926  83.68336 23.444988  0.06305169  0.7849303976011681\n",
       "  356485  333780040.3741322  84.33517  21.28338 0.060539745  0.3560999628401289\n",
       "  356486  333780040.3755159  84.85886 22.116222 0.123453744  0.3971755466530551\n",
       "  356526 333780040.52476007  84.86929 21.290916  0.13630114  0.8278334358850072"
      ]
     },
     "execution_count": 363,
     "metadata": {},
     "output_type": "execute_result"
    }
   ],
   "source": [
    "table"
   ]
  },
  {
   "cell_type": "markdown",
   "id": "73d9073d",
   "metadata": {},
   "source": [
    "At this point, we also want to add meta data to the table. It is very useful to keep track of what has been done to the file. For instance, if we have multiple pulsars in the same file, we want to be able to know quickly which column correspond to which pulsar. Moreover, experience shows that one often use different ephemeris file for the same pulsar. Therefore it is very useful to have several phase columns in the same file and to be able to know which column correspond to which ephemeris file.\n",
    "Here we propose a example of what could be done with the meta data. "
   ]
  },
  {
   "cell_type": "code",
   "execution_count": 84,
   "id": "04672731",
   "metadata": {},
   "outputs": [
    {
     "data": {
      "text/plain": [
       "OrderedDict([('EXTNAME', 'EVENTS'),\n",
       "             ('HDUCLASS', 'GADF'),\n",
       "             ('HDUDOC',\n",
       "              'https://github.com/open-gamma-ray-astro/gamma-astro-data-formats'),\n",
       "             ('HDUVERS', '0.2'),\n",
       "             ('HDUCLAS1', 'EVENTS'),\n",
       "             ('OBS_ID', 5029747),\n",
       "             ('TSTART', 333778852.435217),\n",
       "             ('TSTOP', 333780040.546979),\n",
       "             ('ONTIME', 1188.111761868),\n",
       "             ('LIVETIME', 1178.06621791733),\n",
       "             ('DEADC', 0.991545),\n",
       "             ('EQUINOX', 2000.0),\n",
       "             ('RADECSYS', 'FK5'),\n",
       "             ('ORIGIN', 'MAGIC Collaboration'),\n",
       "             ('TELESCOP', 'MAGIC'),\n",
       "             ('INSTRUME', 'MAGIC stereo'),\n",
       "             ('CREATOR', 'MAGIC_DL3'),\n",
       "             ('VERSION', '0.1.8'),\n",
       "             ('MJDREFI', 52706),\n",
       "             ('MJDREFF', 0.0),\n",
       "             ('TIMEUNIT', 's'),\n",
       "             ('TIMESYS', 'UTC'),\n",
       "             ('TIMEREF', 'local'),\n",
       "             ('OBJECT', 'CrabNebula'),\n",
       "             ('RA_OBJ', 83.63333),\n",
       "             ('DEC_OBJ', 22.01444),\n",
       "             ('OBS_MODE', 'POINTING'),\n",
       "             ('RA_PNT', 83.98333),\n",
       "             ('DEC_PNT', 22.24389),\n",
       "             ('GEOLON', -17.89),\n",
       "             ('GEOLAT', 28.761944),\n",
       "             ('ALTITUDE', 2231.28),\n",
       "             ('ALT_PNT', 69.69974),\n",
       "             ('AZ_PNT', 103.8848),\n",
       "             ('TEST',\n",
       "              'test1                                                                      test2')])"
      ]
     },
     "execution_count": 84,
     "metadata": {},
     "output_type": "execute_result"
    }
   ],
   "source": [
    "table.meta"
   ]
  },
  {
   "cell_type": "code",
   "execution_count": 85,
   "id": "c05c4d0f",
   "metadata": {},
   "outputs": [],
   "source": [
    "def get_log(ephemeris_file , phase_column_name = 'PHASE'):\n",
    "    ephem = models.get_model(ephemeris_file)\n",
    "    return ('COLUMN_PHASE: ' + str(phase_column_name) \n",
    "+ '; PINT_VERS: ' + pint.__version__ \n",
    "+ '; GAMMAPY_VERS: ' + gammapy.__version__ \n",
    "+ '; EPHEM_FILE: ' + ephemeris_file \n",
    "+ '; PSRJ :' + str(ephem.PSR.value) \n",
    "+ '; START: ' + str(ephem.START.value) \n",
    "+ '; FINISH: ' + str(ephem.FINISH.value) \n",
    "+ '; TZRMJD: ' + str(ephem.TZRMJD.value) \n",
    "+ '; TZRSITE: ' + ephem.TZRSITE.value \n",
    "+ '; TZRFREQ: ' + str(ephem.TZRFRQ.value) \n",
    "+ '; DM: ' + str(ephem.DM.value) \n",
    "+ '; INSTRUMENT: ' + 'TODO' \n",
    "+ '; EPHEM: ' + ephem.EPHEM.value \n",
    "+ '; RA: ' + str(ephem.RAJ.value) \n",
    "+ '; DEC: ' + str(ephem.DECJ.value) \n",
    "+ '; DATE: ' + str(Time.now().mjd) \n",
    "+ '; PHASE_OFFSET: ' + 'default = 0' + '; ')"
   ]
  },
  {
   "cell_type": "code",
   "execution_count": 87,
   "id": "ac073fb3",
   "metadata": {},
   "outputs": [
    {
     "name": "stdout",
     "output_type": "stream",
     "text": [
      "COLUMN_PHASE: PHASE; PINT_VERS: 0.9.3; GAMMAPY_VERS: 1.0; EPHEM_FILE: /Users/mregeard/Workspace/tmp_mint/hess/ana/pulsars/vela/Vela_AllFermiAug16_final_white.par; PSRJ :J0835-4510; START: 54175.517520786394; FINISH: 57624.20071066406; TZRMJD: 55896.553125162616; TZRSITE: pks; TZRFREQ: 1370.291992; DM: 67.99; INSTRUMENT: TODO; EPHEM: DE405; RA: 8.589058747222223; DEC: -45.17635419444444; DATE: 59956.741753014896; PHASE_OFFSET: default = 0; \n"
     ]
    }
   ],
   "source": [
    "phase_log = get_log(ephemeris_file=ephemeris_file, phase_column_name = 'PHASE')\n",
    "print(phase_log)"
   ]
  },
  {
   "cell_type": "code",
   "execution_count": null,
   "id": "192f3c52",
   "metadata": {},
   "outputs": [],
   "source": [
    "# Add the generated string to the meta data of the table\n",
    "table.meta['PHS_LOG'] = phase_log"
   ]
  },
  {
   "cell_type": "markdown",
   "id": "305d096e",
   "metadata": {},
   "source": [
    "Once this is done, we can put back the table in a new EventList object and in a new Observations object. "
   ]
  },
  {
   "cell_type": "code",
   "execution_count": 364,
   "id": "499e6f3e",
   "metadata": {},
   "outputs": [],
   "source": [
    "new_event_list = EventList(table)\n",
    "observation._events = new_event_list\n",
    "print(observation.events)"
   ]
  },
  {
   "cell_type": "markdown",
   "id": "d09067f5",
   "metadata": {},
   "source": [
    "## 3. Writing the new EventList as FITS files"
   ]
  },
  {
   "cell_type": "code",
   "execution_count": 359,
   "id": "bfeae8a8",
   "metadata": {},
   "outputs": [],
   "source": [
    "output_directory = './pulsar_data/'"
   ]
  },
  {
   "cell_type": "code",
   "execution_count": 365,
   "id": "08626787",
   "metadata": {},
   "outputs": [],
   "source": [
    "list_ids = list(map(int, f'{observation.obs_id:04d}'))  \n",
    "filename = f'dl3_pulsar_{observation.obs_id:04d}.fits'\n",
    "file_path = output_directory + filename"
   ]
  },
  {
   "cell_type": "code",
   "execution_count": 366,
   "id": "f339c797",
   "metadata": {},
   "outputs": [
    {
     "name": "stdout",
     "output_type": "stream",
     "text": [
      "Writing outputfile in ./pulsar_data/dl3_pulsar_5029747.fits\n"
     ]
    }
   ],
   "source": [
    "print('Writing outputfile in '+str(file_path))\n",
    "observation.events.write(filename = file_path, gti = observation.gti, overwrite = True)"
   ]
  },
  {
   "cell_type": "code",
   "execution_count": null,
   "id": "d99b3ee8",
   "metadata": {},
   "outputs": [],
   "source": []
  },
  {
   "cell_type": "markdown",
   "id": "6dfca2b8",
   "metadata": {},
   "source": [
    "## 4. Reading the new EventList files with the original DataStore information"
   ]
  },
  {
   "cell_type": "markdown",
   "id": "ee2cb223",
   "metadata": {},
   "source": [
    "In the following we will see how to read the files that have been previously written to disk, and associate them with their corresponding IRFs.\n",
    "Let's first open the phased events files and create Observation with them. "
   ]
  },
  {
   "cell_type": "code",
   "execution_count": 4,
   "id": "8b017dbb",
   "metadata": {},
   "outputs": [],
   "source": [
    "import glob"
   ]
  },
  {
   "cell_type": "code",
   "execution_count": null,
   "id": "88a0e9c1",
   "metadata": {},
   "outputs": [],
   "source": [
    "# Recovering the full path of the fits files that have been written to disk\n",
    "filename = glob.glob('./pulsar_data/*.fits')\n",
    "filename = glob.glob('Users/mregeard/Workspace/tmp_mint/hess/ana/pulsars/vela')\n",
    "print(filename)"
   ]
  },
  {
   "cell_type": "code",
   "execution_count": null,
   "id": "9083e12e",
   "metadata": {},
   "outputs": [],
   "source": [
    "# Openning the file in a DataStore\n",
    "datastore = DataStore.from_events_files(filename)"
   ]
  },
  {
   "cell_type": "code",
   "execution_count": null,
   "id": "2d52fc8c",
   "metadata": {},
   "outputs": [],
   "source": [
    "# Make a cone search for the source you want to study, here the Crab pulsar\n",
    "target_pos = SkyCoord(ra = 083.6331144560900, dec = +22.0144871383400, unit = 'deg', frame = 'icrs')\n",
    "\n",
    "selection = dict(\n",
    "    type=\"sky_circle\",\n",
    "    frame=\"icrs\",\n",
    "    lon=pos_j1119.ra,\n",
    "    lat=pos_j1119.dec,\n",
    "    radius=\"7 deg\",\n",
    ")\n",
    "\n",
    "selected_obs_table = data_store.obs_table.select_observations(selection)"
   ]
  },
  {
   "cell_type": "code",
   "execution_count": null,
   "id": "55f439ce",
   "metadata": {},
   "outputs": [],
   "source": [
    "observations = datastore.get_observations()"
   ]
  },
  {
   "cell_type": "markdown",
   "id": "31caa263",
   "metadata": {},
   "source": [
    "-------------"
   ]
  },
  {
   "cell_type": "markdown",
   "id": "b312bef9",
   "metadata": {},
   "source": [
    "# Pulsar Analysis Tutorial"
   ]
  },
  {
   "cell_type": "markdown",
   "id": "3c544d07",
   "metadata": {},
   "source": [
    "## Making a phaseogram with basic statistics"
   ]
  },
  {
   "cell_type": "code",
   "execution_count": 493,
   "id": "a3251096",
   "metadata": {},
   "outputs": [],
   "source": [
    "off_phase_range = (0.6, 0.9)\n",
    "on_phase_range = (0.35, 0.45)"
   ]
  },
  {
   "cell_type": "code",
   "execution_count": 494,
   "id": "fe368053",
   "metadata": {},
   "outputs": [],
   "source": [
    "pos_target = SkyCoord(ra=83.63 * u.deg, dec=22.01 * u.deg, frame=\"icrs\")          \n",
    "on_radius = 0.2*u.deg\n",
    "\n",
    "on_region = SphericalCircleSkyRegion(pos_target, on_radius)"
   ]
  },
  {
   "cell_type": "code",
   "execution_count": 495,
   "id": "56eddac0",
   "metadata": {},
   "outputs": [],
   "source": [
    "true_energy_axis = MapAxis.from_energy_bounds( 0.003, 10, 100, unit=\"TeV\", name=\"energy_true\")\n",
    "reco_energy_axis = MapAxis.from_energy_bounds(0.01, 10, 30, unit=\"TeV\", name=\"energy\")\n",
    "\n",
    "\n",
    "geom=RegionGeom.create(region = on_region, axes=[reco_energy_axis])\n",
    "    \n",
    "#Define empty Dataset\n",
    "dataset_empty = SpectrumDataset.create(geom=geom,energy_axis_true=true_energy_axis)\n",
    "\n",
    "#Define dataset maker\n",
    "dataset_maker = SpectrumDatasetMaker(containment_correction=False, selection=[\"counts\", \"exposure\", \"edisp\"], use_region_center=True)  \n",
    "\n",
    "# Define background maker with the phase regions\n",
    "phase_bkg_maker = PhaseBackgroundMaker(on_phase=on_phase_range, off_phase=off_phase_range)\n",
    "\n",
    "dataset = dataset_maker.run(dataset_empty, observation)\n",
    "dataset_on_off = phase_bkg_maker.run(dataset, observation)"
   ]
  },
  {
   "cell_type": "code",
   "execution_count": 496,
   "id": "8812fd20",
   "metadata": {},
   "outputs": [],
   "source": [
    "stats_info = dataset_on_off.info_dict()"
   ]
  },
  {
   "cell_type": "code",
   "execution_count": 497,
   "id": "dc1c0ea4",
   "metadata": {},
   "outputs": [
    {
     "data": {
      "text/plain": [
       "{'name': 'lJglzk1R',\n",
       " 'counts': 101,\n",
       " 'excess': 12.666666666666657,\n",
       " 'sqrt_ts': 1.1342448900013318,\n",
       " 'background': 88.33333333333334,\n",
       " 'npred': 91.5,\n",
       " 'npred_background': 91.5,\n",
       " 'npred_signal': nan,\n",
       " 'exposure_min': <Quantity 2403.63682714 m2 s>,\n",
       " 'exposure_max': <Quantity 1.63176031e+08 m2 s>,\n",
       " 'livetime': <Quantity 1178.06627692 s>,\n",
       " 'ontime': <Quantity 1188.11176187 s>,\n",
       " 'counts_rate': <Quantity 0.08573372 1 / s>,\n",
       " 'background_rate': <Quantity 0.07498163 1 / s>,\n",
       " 'excess_rate': <Quantity 0.01075208 1 / s>,\n",
       " 'n_bins': 30,\n",
       " 'n_fit_bins': 30,\n",
       " 'stat_type': 'wstat',\n",
       " 'stat_sum': 20.629335006885206,\n",
       " 'counts_off': 265,\n",
       " 'acceptance': 3.0000000000000013,\n",
       " 'acceptance_off': 9.000000000000004,\n",
       " 'alpha': 0.33333333333333337}"
      ]
     },
     "execution_count": 497,
     "metadata": {},
     "output_type": "execute_result"
    }
   ],
   "source": [
    "stats_info"
   ]
  },
  {
   "cell_type": "markdown",
   "id": "429cabea",
   "metadata": {},
   "source": [
    "## Draw the histogram"
   ]
  },
  {
   "cell_type": "code",
   "execution_count": 498,
   "id": "4db62639",
   "metadata": {},
   "outputs": [],
   "source": [
    "phases_on_region = observation.events.select_region(on_region).table['PHASE']"
   ]
  },
  {
   "cell_type": "code",
   "execution_count": 577,
   "id": "32d78f81",
   "metadata": {},
   "outputs": [
    {
     "data": {
      "image/png": "[encoded data removed]",
      "text/plain": [
       "<Figure size 1500x600 with 1 Axes>"
      ]
     },
     "metadata": {},
     "output_type": "display_data"
    }
   ],
   "source": [
    "plt.figure(figsize=(15,6))\n",
    "plt.title('Phaseogram of the sample',fontsize=20)\n",
    "plt.hist(phases_on_region,bins=20, edgecolor='blue',facecolor='xkcd:sky blue',histtype='stepfilled')\n",
    "plt.hist(phases_on_region+1,bins=20, edgecolor='blue',facecolor='xkcd:sky blue',histtype='stepfilled')\n",
    "plt.fill_between(np.linspace(on_phase_range[0],on_phase_range[1]),0,650,color='C3',alpha=0.4)\n",
    "plt.fill_between(np.linspace(on_phase_range[0],on_phase_range[1])+1,0,650,color='C3',alpha=0.4, label='ON region')\n",
    "plt.fill_between(np.linspace(off_phase_range[0],off_phase_range[1]),0,650,color='k',alpha=0.3, hatch='/', label='OFF region')\n",
    "plt.fill_between(np.linspace(off_phase_range[0],off_phase_range[1])+1,0,650,color='k',alpha=0.3, hatch='/')\n",
    "plt.xlabel('Phase')\n",
    "plt.ylabel('Counts')\n",
    "plt.text(1.6,23,'Stats: \\n Significance:{0:.2f}$\\sigma$ \\n N(ON):{1:.0f} \\n N(off):{2:.0f} \\n Nex:{3:.0f} \\n alpha:{4:.2f}'.format(stats_info['sqrt_ts'], stats_info['counts'],stats_info['counts_off'],stats_info['excess'],stats_info['alpha']),\n",
    "         fontsize=16,color='black',bbox=dict(facecolor='white', edgecolor='black'))\n",
    "plt.text(-0.05,55,' Nentries:{0:.0f} \\n Tobs:{1:.2f}'.format(len(table),stats_info['livetime'].to(u.Unit('h'))),\n",
    "        fontsize=16,weight='bold',color='black',bbox=dict(facecolor='white', edgecolor='black'))\n",
    "plt.ylim(20,60)\n",
    "plt.legend(fontsize=15)\n",
    "plt.show()"
   ]
  },
  {
   "cell_type": "code",
   "execution_count": null,
   "id": "7cd8084d",
   "metadata": {},
   "outputs": [],
   "source": []
  },
  {
   "cell_type": "code",
   "execution_count": null,
   "id": "61d6687e",
   "metadata": {},
   "outputs": [],
   "source": []
  }
 ],
 "metadata": {
  "kernelspec": {
   "display_name": "Python 3 (ipykernel)",
   "language": "python",
   "name": "python3"
  },
  "language_info": {
   "codemirror_mode": {
    "name": "ipython",
    "version": 3
   },
   "file_extension": ".py",
   "mimetype": "text/x-python",
   "name": "python",
   "nbconvert_exporter": "python",
   "pygments_lexer": "ipython3",
   "version": "3.9.15"
  }
 },
 "nbformat": 4,
 "nbformat_minor": 5
}
